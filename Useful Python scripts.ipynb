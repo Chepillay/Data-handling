{
 "cells": [
  {
   "cell_type": "markdown",
   "metadata": {},
   "source": [
    "# Useful Python Scripts"
   ]
  },
  {
   "cell_type": "markdown",
   "metadata": {},
   "source": [
    "Found below are some useful scripts in Python. Feel free to add your own scripts to this"
   ]
  },
  {
   "cell_type": "markdown",
   "metadata": {},
   "source": [
    "# 1 Imports"
   ]
  },
  {
   "cell_type": "markdown",
   "metadata": {},
   "source": [
    "The following code has all the imports that we would usually use. Best to delete imports that are not useful"
   ]
  },
  {
   "cell_type": "code",
   "execution_count": 61,
   "metadata": {},
   "outputs": [],
   "source": [
    "from matplotlib import pyplot as plt\n",
    "import numpy as np\n",
    "import scipy as sp\n",
    "import scipy.optimize\n",
    "import scipy.misc\n",
    "import scipy.stats\n",
    "import pandas as pd\n",
    "import os\n",
    "backupdir = os.getcwd()\n",
    "#import pysces\n",
    "#from lmfit import minimize, Parameters, report_fit, Model\n",
    "os.chdir(backupdir)"
   ]
  },
  {
   "cell_type": "markdown",
   "metadata": {},
   "source": [
    "# 2 Importing data from Excel"
   ]
  },
  {
   "cell_type": "markdown",
   "metadata": {},
   "source": [
    "Before you import your data from Excel, it is important to have it properly organized. Pandas does not like to have columns or rows labelled with numbers. I have created an xls sheet, Sample data, that has both reduced and oxidized isforms and a time series. Note that the labels all begin with a letter. Take a look at the excel spreadsheet to see how it is organized."
   ]
  },
  {
   "cell_type": "markdown",
   "metadata": {},
   "source": [
    "## 2.1 Calling the file into pandas"
   ]
  },
  {
   "cell_type": "code",
   "execution_count": 62,
   "metadata": {},
   "outputs": [
    {
     "data": {
      "text/html": [
       "<div>\n",
       "<style scoped>\n",
       "    .dataframe tbody tr th:only-of-type {\n",
       "        vertical-align: middle;\n",
       "    }\n",
       "\n",
       "    .dataframe tbody tr th {\n",
       "        vertical-align: top;\n",
       "    }\n",
       "\n",
       "    .dataframe thead th {\n",
       "        text-align: right;\n",
       "    }\n",
       "</style>\n",
       "<table border=\"1\" class=\"dataframe\">\n",
       "  <thead>\n",
       "    <tr style=\"text-align: right;\">\n",
       "      <th></th>\n",
       "      <th>Time</th>\n",
       "      <th>R1_red</th>\n",
       "      <th>R1_ox</th>\n",
       "      <th>R2_red</th>\n",
       "      <th>R2_ox</th>\n",
       "      <th>R3_red</th>\n",
       "      <th>R3_ox</th>\n",
       "    </tr>\n",
       "  </thead>\n",
       "  <tbody>\n",
       "    <tr>\n",
       "      <th>0</th>\n",
       "      <td>0</td>\n",
       "      <td>12610.083</td>\n",
       "      <td>798.477</td>\n",
       "      <td>10160.548</td>\n",
       "      <td>1703.648</td>\n",
       "      <td>7876.033</td>\n",
       "      <td>2244.184</td>\n",
       "    </tr>\n",
       "    <tr>\n",
       "      <th>1</th>\n",
       "      <td>10</td>\n",
       "      <td>8686.962</td>\n",
       "      <td>2888.891</td>\n",
       "      <td>6155.083</td>\n",
       "      <td>4264.912</td>\n",
       "      <td>8373.962</td>\n",
       "      <td>3684.497</td>\n",
       "    </tr>\n",
       "    <tr>\n",
       "      <th>2</th>\n",
       "      <td>120</td>\n",
       "      <td>8464.468</td>\n",
       "      <td>5147.276</td>\n",
       "      <td>6319.426</td>\n",
       "      <td>11357.669</td>\n",
       "      <td>8793.719</td>\n",
       "      <td>9243.134</td>\n",
       "    </tr>\n",
       "    <tr>\n",
       "      <th>3</th>\n",
       "      <td>300</td>\n",
       "      <td>12333.033</td>\n",
       "      <td>7548.024</td>\n",
       "      <td>6949.426</td>\n",
       "      <td>6239.012</td>\n",
       "      <td>4905.770</td>\n",
       "      <td>4718.083</td>\n",
       "    </tr>\n",
       "    <tr>\n",
       "      <th>4</th>\n",
       "      <td>600</td>\n",
       "      <td>6663.225</td>\n",
       "      <td>1579.619</td>\n",
       "      <td>9846.841</td>\n",
       "      <td>5399.548</td>\n",
       "      <td>8375.548</td>\n",
       "      <td>4266.376</td>\n",
       "    </tr>\n",
       "    <tr>\n",
       "      <th>5</th>\n",
       "      <td>1200</td>\n",
       "      <td>8394.426</td>\n",
       "      <td>4416.761</td>\n",
       "      <td>9747.426</td>\n",
       "      <td>7534.497</td>\n",
       "      <td>6735.305</td>\n",
       "      <td>3200.134</td>\n",
       "    </tr>\n",
       "    <tr>\n",
       "      <th>6</th>\n",
       "      <td>1800</td>\n",
       "      <td>4441.548</td>\n",
       "      <td>4683.589</td>\n",
       "      <td>7078.841</td>\n",
       "      <td>11774.447</td>\n",
       "      <td>7407.719</td>\n",
       "      <td>5680.497</td>\n",
       "    </tr>\n",
       "    <tr>\n",
       "      <th>7</th>\n",
       "      <td>2400</td>\n",
       "      <td>8568.276</td>\n",
       "      <td>10211.740</td>\n",
       "      <td>8708.912</td>\n",
       "      <td>10898.497</td>\n",
       "      <td>5591.426</td>\n",
       "      <td>8596.841</td>\n",
       "    </tr>\n",
       "    <tr>\n",
       "      <th>8</th>\n",
       "      <td>3000</td>\n",
       "      <td>5719.255</td>\n",
       "      <td>3317.690</td>\n",
       "      <td>8143.669</td>\n",
       "      <td>4445.669</td>\n",
       "      <td>7249.669</td>\n",
       "      <td>4574.497</td>\n",
       "    </tr>\n",
       "    <tr>\n",
       "      <th>9</th>\n",
       "      <td>3600</td>\n",
       "      <td>9199.912</td>\n",
       "      <td>845.083</td>\n",
       "      <td>12488.681</td>\n",
       "      <td>3798.083</td>\n",
       "      <td>10139.660</td>\n",
       "      <td>2176.033</td>\n",
       "    </tr>\n",
       "  </tbody>\n",
       "</table>\n",
       "</div>"
      ],
      "text/plain": [
       "   Time     R1_red      R1_ox     R2_red      R2_ox     R3_red     R3_ox\n",
       "0     0  12610.083    798.477  10160.548   1703.648   7876.033  2244.184\n",
       "1    10   8686.962   2888.891   6155.083   4264.912   8373.962  3684.497\n",
       "2   120   8464.468   5147.276   6319.426  11357.669   8793.719  9243.134\n",
       "3   300  12333.033   7548.024   6949.426   6239.012   4905.770  4718.083\n",
       "4   600   6663.225   1579.619   9846.841   5399.548   8375.548  4266.376\n",
       "5  1200   8394.426   4416.761   9747.426   7534.497   6735.305  3200.134\n",
       "6  1800   4441.548   4683.589   7078.841  11774.447   7407.719  5680.497\n",
       "7  2400   8568.276  10211.740   8708.912  10898.497   5591.426  8596.841\n",
       "8  3000   5719.255   3317.690   8143.669   4445.669   7249.669  4574.497\n",
       "9  3600   9199.912    845.083  12488.681   3798.083  10139.660  2176.033"
      ]
     },
     "execution_count": 62,
     "metadata": {},
     "output_type": "execute_result"
    }
   ],
   "source": [
    "#Call the file\n",
    "xls = pd.ExcelFile('Sample Data.xlsx')\n",
    "#select the specific sheet and put into a dataframe\n",
    "df1 = pd.read_excel(xls, 'Expt1')\n",
    "#check the data\n",
    "df1"
   ]
  },
  {
   "cell_type": "code",
   "execution_count": 63,
   "metadata": {},
   "outputs": [
    {
     "data": {
      "text/plain": [
       "0       0\n",
       "1      10\n",
       "2     120\n",
       "3     300\n",
       "4     600\n",
       "5    1200\n",
       "6    1800\n",
       "7    2400\n",
       "8    3000\n",
       "9    3600\n",
       "Name: Time, dtype: int64"
      ]
     },
     "execution_count": 63,
     "metadata": {},
     "output_type": "execute_result"
    }
   ],
   "source": [
    "#Once in Pandas it is really easy to select a column\n",
    "t=df1['Time']\n",
    "t"
   ]
  },
  {
   "cell_type": "code",
   "execution_count": 64,
   "metadata": {},
   "outputs": [
    {
     "data": {
      "text/plain": [
       "0    0.940450\n",
       "1    0.750438\n",
       "2    0.621850\n",
       "3    0.620341\n",
       "4    0.808365\n",
       "5    0.655242\n",
       "6    0.486738\n",
       "7    0.456244\n",
       "8    0.632875\n",
       "9    0.915870\n",
       "dtype: float64"
      ]
     },
     "execution_count": 64,
     "metadata": {},
     "output_type": "execute_result"
    }
   ],
   "source": [
    "#Calculating the redox charge for particular replicate R1; I will select column R1_red and divide by(R1_red + R1_ox)\n",
    "red_charge_R1 = df1['R1_red']/(df1['R1_red']+df1['R1_ox'])\n",
    "red_charge_R1"
   ]
  },
  {
   "cell_type": "markdown",
   "metadata": {},
   "source": [
    "## 2.2 Organize the data so that it can useful: calculating mean, std deviations, std errors and %CV"
   ]
  },
  {
   "cell_type": "markdown",
   "metadata": {},
   "source": [
    "Lets assume that I want these data are 3 replicates and I want to calculate the mean, std error and coefficient of variation for these data"
   ]
  },
  {
   "cell_type": "code",
   "execution_count": 65,
   "metadata": {},
   "outputs": [
    {
     "data": {
      "text/html": [
       "<div>\n",
       "<style scoped>\n",
       "    .dataframe tbody tr th:only-of-type {\n",
       "        vertical-align: middle;\n",
       "    }\n",
       "\n",
       "    .dataframe tbody tr th {\n",
       "        vertical-align: top;\n",
       "    }\n",
       "\n",
       "    .dataframe thead th {\n",
       "        text-align: right;\n",
       "    }\n",
       "</style>\n",
       "<table border=\"1\" class=\"dataframe\">\n",
       "  <thead>\n",
       "    <tr style=\"text-align: right;\">\n",
       "      <th></th>\n",
       "      <th>R1_red</th>\n",
       "      <th>R2_red</th>\n",
       "      <th>R3_red</th>\n",
       "    </tr>\n",
       "  </thead>\n",
       "  <tbody>\n",
       "    <tr>\n",
       "      <th>0</th>\n",
       "      <td>12610.083</td>\n",
       "      <td>10160.548</td>\n",
       "      <td>7876.033</td>\n",
       "    </tr>\n",
       "    <tr>\n",
       "      <th>1</th>\n",
       "      <td>8686.962</td>\n",
       "      <td>6155.083</td>\n",
       "      <td>8373.962</td>\n",
       "    </tr>\n",
       "    <tr>\n",
       "      <th>2</th>\n",
       "      <td>8464.468</td>\n",
       "      <td>6319.426</td>\n",
       "      <td>8793.719</td>\n",
       "    </tr>\n",
       "    <tr>\n",
       "      <th>3</th>\n",
       "      <td>12333.033</td>\n",
       "      <td>6949.426</td>\n",
       "      <td>4905.770</td>\n",
       "    </tr>\n",
       "    <tr>\n",
       "      <th>4</th>\n",
       "      <td>6663.225</td>\n",
       "      <td>9846.841</td>\n",
       "      <td>8375.548</td>\n",
       "    </tr>\n",
       "    <tr>\n",
       "      <th>5</th>\n",
       "      <td>8394.426</td>\n",
       "      <td>9747.426</td>\n",
       "      <td>6735.305</td>\n",
       "    </tr>\n",
       "    <tr>\n",
       "      <th>6</th>\n",
       "      <td>4441.548</td>\n",
       "      <td>7078.841</td>\n",
       "      <td>7407.719</td>\n",
       "    </tr>\n",
       "    <tr>\n",
       "      <th>7</th>\n",
       "      <td>8568.276</td>\n",
       "      <td>8708.912</td>\n",
       "      <td>5591.426</td>\n",
       "    </tr>\n",
       "    <tr>\n",
       "      <th>8</th>\n",
       "      <td>5719.255</td>\n",
       "      <td>8143.669</td>\n",
       "      <td>7249.669</td>\n",
       "    </tr>\n",
       "    <tr>\n",
       "      <th>9</th>\n",
       "      <td>9199.912</td>\n",
       "      <td>12488.681</td>\n",
       "      <td>10139.660</td>\n",
       "    </tr>\n",
       "  </tbody>\n",
       "</table>\n",
       "</div>"
      ],
      "text/plain": [
       "      R1_red     R2_red     R3_red\n",
       "0  12610.083  10160.548   7876.033\n",
       "1   8686.962   6155.083   8373.962\n",
       "2   8464.468   6319.426   8793.719\n",
       "3  12333.033   6949.426   4905.770\n",
       "4   6663.225   9846.841   8375.548\n",
       "5   8394.426   9747.426   6735.305\n",
       "6   4441.548   7078.841   7407.719\n",
       "7   8568.276   8708.912   5591.426\n",
       "8   5719.255   8143.669   7249.669\n",
       "9   9199.912  12488.681  10139.660"
      ]
     },
     "execution_count": 65,
     "metadata": {},
     "output_type": "execute_result"
    }
   ],
   "source": [
    "# collect reduced species into 1 dataframe\n",
    "df_red = df1.loc[:, ['R1_red','R2_red', 'R3_red' ]]\n",
    "df_red"
   ]
  },
  {
   "cell_type": "code",
   "execution_count": 66,
   "metadata": {},
   "outputs": [
    {
     "data": {
      "text/html": [
       "<div>\n",
       "<style scoped>\n",
       "    .dataframe tbody tr th:only-of-type {\n",
       "        vertical-align: middle;\n",
       "    }\n",
       "\n",
       "    .dataframe tbody tr th {\n",
       "        vertical-align: top;\n",
       "    }\n",
       "\n",
       "    .dataframe thead th {\n",
       "        text-align: right;\n",
       "    }\n",
       "</style>\n",
       "<table border=\"1\" class=\"dataframe\">\n",
       "  <thead>\n",
       "    <tr style=\"text-align: right;\">\n",
       "      <th></th>\n",
       "      <th>R1_ox</th>\n",
       "      <th>R2_ox</th>\n",
       "      <th>R3_ox</th>\n",
       "    </tr>\n",
       "  </thead>\n",
       "  <tbody>\n",
       "    <tr>\n",
       "      <th>0</th>\n",
       "      <td>798.477</td>\n",
       "      <td>1703.648</td>\n",
       "      <td>2244.184</td>\n",
       "    </tr>\n",
       "    <tr>\n",
       "      <th>1</th>\n",
       "      <td>2888.891</td>\n",
       "      <td>4264.912</td>\n",
       "      <td>3684.497</td>\n",
       "    </tr>\n",
       "    <tr>\n",
       "      <th>2</th>\n",
       "      <td>5147.276</td>\n",
       "      <td>11357.669</td>\n",
       "      <td>9243.134</td>\n",
       "    </tr>\n",
       "    <tr>\n",
       "      <th>3</th>\n",
       "      <td>7548.024</td>\n",
       "      <td>6239.012</td>\n",
       "      <td>4718.083</td>\n",
       "    </tr>\n",
       "    <tr>\n",
       "      <th>4</th>\n",
       "      <td>1579.619</td>\n",
       "      <td>5399.548</td>\n",
       "      <td>4266.376</td>\n",
       "    </tr>\n",
       "    <tr>\n",
       "      <th>5</th>\n",
       "      <td>4416.761</td>\n",
       "      <td>7534.497</td>\n",
       "      <td>3200.134</td>\n",
       "    </tr>\n",
       "    <tr>\n",
       "      <th>6</th>\n",
       "      <td>4683.589</td>\n",
       "      <td>11774.447</td>\n",
       "      <td>5680.497</td>\n",
       "    </tr>\n",
       "    <tr>\n",
       "      <th>7</th>\n",
       "      <td>10211.740</td>\n",
       "      <td>10898.497</td>\n",
       "      <td>8596.841</td>\n",
       "    </tr>\n",
       "    <tr>\n",
       "      <th>8</th>\n",
       "      <td>3317.690</td>\n",
       "      <td>4445.669</td>\n",
       "      <td>4574.497</td>\n",
       "    </tr>\n",
       "    <tr>\n",
       "      <th>9</th>\n",
       "      <td>845.083</td>\n",
       "      <td>3798.083</td>\n",
       "      <td>2176.033</td>\n",
       "    </tr>\n",
       "  </tbody>\n",
       "</table>\n",
       "</div>"
      ],
      "text/plain": [
       "       R1_ox      R2_ox     R3_ox\n",
       "0    798.477   1703.648  2244.184\n",
       "1   2888.891   4264.912  3684.497\n",
       "2   5147.276  11357.669  9243.134\n",
       "3   7548.024   6239.012  4718.083\n",
       "4   1579.619   5399.548  4266.376\n",
       "5   4416.761   7534.497  3200.134\n",
       "6   4683.589  11774.447  5680.497\n",
       "7  10211.740  10898.497  8596.841\n",
       "8   3317.690   4445.669  4574.497\n",
       "9    845.083   3798.083  2176.033"
      ]
     },
     "execution_count": 66,
     "metadata": {},
     "output_type": "execute_result"
    }
   ],
   "source": [
    "#Oxidized species\n",
    "df_ox = df1.loc[:, ['R1_ox','R2_ox', 'R3_ox' ]]\n",
    "df_ox"
   ]
  },
  {
   "cell_type": "code",
   "execution_count": 67,
   "metadata": {},
   "outputs": [
    {
     "name": "stdout",
     "output_type": "stream",
     "text": [
      "Means\n",
      "0    10215.554667\n",
      "1     7738.669000\n",
      "2     7859.204333\n",
      "3     8062.743000\n",
      "4     8295.204667\n",
      "5     8292.385667\n",
      "6     6309.369333\n",
      "7     7622.871333\n",
      "8     7037.531000\n",
      "9    10609.417667\n",
      "dtype: float64 0    1582.103000\n",
      "1    3612.766667\n",
      "2    8582.693000\n",
      "3    6168.373000\n",
      "4    3748.514333\n",
      "5    5050.464000\n",
      "6    7379.511000\n",
      "7    9902.359333\n",
      "8    4112.618667\n",
      "9    2273.066333\n",
      "dtype: float64\n",
      "Std deviations\n",
      "0    2367.504308\n",
      "1    1380.326307\n",
      "2    1343.610636\n",
      "3    3836.751878\n",
      "4    1593.327963\n",
      "5    1508.650855\n",
      "6    1625.917459\n",
      "7    1760.687998\n",
      "8    1226.049636\n",
      "9    1693.961211\n",
      "dtype: float64 0     730.477291\n",
      "1     690.809220\n",
      "2    3157.432824\n",
      "3    1416.292313\n",
      "4    1961.912312\n",
      "5    2235.589469\n",
      "6    3838.626476\n",
      "7    1181.605849\n",
      "8     691.435356\n",
      "9    1478.889398\n",
      "dtype: float64\n",
      "CV\n"
     ]
    },
    {
     "data": {
      "text/plain": [
       "0    26.657004\n",
       "1    11.039708\n",
       "2    21.239775\n",
       "3    13.256279\n",
       "4    30.217588\n",
       "5    25.556428\n",
       "6    30.032234\n",
       "7     6.889272\n",
       "8     9.706720\n",
       "9    37.563233\n",
       "dtype: float64"
      ]
     },
     "execution_count": 67,
     "metadata": {},
     "output_type": "execute_result"
    }
   ],
   "source": [
    "#Calculate mean for each row of these dataframes\n",
    "mean_red = df_red.mean(axis=1) # axis= 1Calculates the mean for each row\n",
    "mean_ox = df_ox.mean(axis=1)\n",
    "print ('Means')\n",
    "print (mean_red, mean_ox)\n",
    "\n",
    "#Calculate std deviation for each row\n",
    "std_red = df_red.std(axis=1)\n",
    "std_ox = df_ox.std(axis=1)\n",
    "print ('Std deviations')\n",
    "print(std_red, std_ox)\n",
    "\n",
    "#Calculate standard error. Note that division is by the sqrt(n). These are 3 replicates here\n",
    "stderr_red = std_red/np.sqrt(3)\n",
    "stderr_ox = std_ox/np.sqrt(3)\n",
    "\n",
    "#Calculate CV\n",
    "print('CV')\n",
    "stderr_red/mean_red*100\n",
    "stderr_ox/mean_ox*100"
   ]
  },
  {
   "cell_type": "code",
   "execution_count": 68,
   "metadata": {},
   "outputs": [
    {
     "data": {
      "text/plain": [
       "0    10215.554667\n",
       "1     7738.669000\n",
       "2     7859.204333\n",
       "3     8062.743000\n",
       "4     8295.204667\n",
       "5     8292.385667\n",
       "6     6309.369333\n",
       "7     7622.871333\n",
       "8     7037.531000\n",
       "9    10609.417667\n",
       "dtype: float64"
      ]
     },
     "execution_count": 68,
     "metadata": {},
     "output_type": "execute_result"
    }
   ],
   "source": [
    "#If you like, you can call any of the calculated means, std errors etc\n",
    "#Lets look at the means of the reduced data\n",
    "mean_red"
   ]
  },
  {
   "cell_type": "markdown",
   "metadata": {},
   "source": [
    "## 2.3 Plotting your data"
   ]
  },
  {
   "cell_type": "code",
   "execution_count": 69,
   "metadata": {},
   "outputs": [
    {
     "data": {
      "image/png": "[encoded data removed]",
      "text/plain": [
       "<Figure size 432x288 with 1 Axes>"
      ]
     },
     "metadata": {
      "needs_background": "light"
     },
     "output_type": "display_data"
    }
   ],
   "source": [
    "#Plot data\n",
    "#This is useful in visualizing data\n",
    "t=df1['Time']\n",
    "fig = plt.figure()\n",
    "ax = fig.add_subplot(111)\n",
    "ax.errorbar(x=t, y=mean_red, yerr=stderr_red, fmt='ko-', capsize=4, label='Pap(red)')\n",
    "ax.errorbar(x=t, y=mean_ox, yerr=stderr_ox, fmt='ro-', capsize=4, label='Pap(ox)')\n",
    "plt.ylabel(r'Sample', size=14)\n",
    "plt.xlabel(r'Time (sec)', size=14)\n",
    "\n",
    "#You can save figure as png, pdf etc. By adjusting the dpi, you can increase the resolution of your figure\n",
    "#This would make it prettier for your thesis\n",
    "fig.savefig('Figure 2.png', dpi=200)"
   ]
  },
  {
   "cell_type": "markdown",
   "metadata": {},
   "source": [
    "## 2.4 Summary of your data"
   ]
  },
  {
   "cell_type": "code",
   "execution_count": 70,
   "metadata": {},
   "outputs": [],
   "source": [
    "#create a dataframe of just the mean_red and mean_ox and std errors using the concatantion function\n",
    "#This might be a more useful summary of your data\n",
    "\n",
    "df_mean_data = pd.concat([df1['Time'], mean_red, mean_ox, stderr_red,stderr_ox ], keys=['Time', 'Red', 'Ox', 'stderr_red', 'stderr_ox'], axis=1)"
   ]
  },
  {
   "cell_type": "code",
   "execution_count": 71,
   "metadata": {},
   "outputs": [
    {
     "data": {
      "text/html": [
       "<div>\n",
       "<style scoped>\n",
       "    .dataframe tbody tr th:only-of-type {\n",
       "        vertical-align: middle;\n",
       "    }\n",
       "\n",
       "    .dataframe tbody tr th {\n",
       "        vertical-align: top;\n",
       "    }\n",
       "\n",
       "    .dataframe thead th {\n",
       "        text-align: right;\n",
       "    }\n",
       "</style>\n",
       "<table border=\"1\" class=\"dataframe\">\n",
       "  <thead>\n",
       "    <tr style=\"text-align: right;\">\n",
       "      <th></th>\n",
       "      <th>Time</th>\n",
       "      <th>Red</th>\n",
       "      <th>Ox</th>\n",
       "      <th>stderr_red</th>\n",
       "      <th>stderr_ox</th>\n",
       "    </tr>\n",
       "  </thead>\n",
       "  <tbody>\n",
       "    <tr>\n",
       "      <th>0</th>\n",
       "      <td>0</td>\n",
       "      <td>10215.554667</td>\n",
       "      <td>1582.103000</td>\n",
       "      <td>1366.879250</td>\n",
       "      <td>421.741261</td>\n",
       "    </tr>\n",
       "    <tr>\n",
       "      <th>1</th>\n",
       "      <td>10</td>\n",
       "      <td>7738.669000</td>\n",
       "      <td>3612.766667</td>\n",
       "      <td>796.931765</td>\n",
       "      <td>398.838889</td>\n",
       "    </tr>\n",
       "    <tr>\n",
       "      <th>2</th>\n",
       "      <td>120</td>\n",
       "      <td>7859.204333</td>\n",
       "      <td>8582.693000</td>\n",
       "      <td>775.733963</td>\n",
       "      <td>1822.944691</td>\n",
       "    </tr>\n",
       "    <tr>\n",
       "      <th>3</th>\n",
       "      <td>300</td>\n",
       "      <td>8062.743000</td>\n",
       "      <td>6168.373000</td>\n",
       "      <td>2215.149730</td>\n",
       "      <td>817.696748</td>\n",
       "    </tr>\n",
       "    <tr>\n",
       "      <th>4</th>\n",
       "      <td>600</td>\n",
       "      <td>8295.204667</td>\n",
       "      <td>3748.514333</td>\n",
       "      <td>919.908328</td>\n",
       "      <td>1132.710602</td>\n",
       "    </tr>\n",
       "    <tr>\n",
       "      <th>5</th>\n",
       "      <td>1200</td>\n",
       "      <td>8292.385667</td>\n",
       "      <td>5050.464000</td>\n",
       "      <td>871.019977</td>\n",
       "      <td>1290.718182</td>\n",
       "    </tr>\n",
       "    <tr>\n",
       "      <th>6</th>\n",
       "      <td>1800</td>\n",
       "      <td>6309.369333</td>\n",
       "      <td>7379.511000</td>\n",
       "      <td>938.723883</td>\n",
       "      <td>2216.232029</td>\n",
       "    </tr>\n",
       "    <tr>\n",
       "      <th>7</th>\n",
       "      <td>2400</td>\n",
       "      <td>7622.871333</td>\n",
       "      <td>9902.359333</td>\n",
       "      <td>1016.533690</td>\n",
       "      <td>682.200455</td>\n",
       "    </tr>\n",
       "    <tr>\n",
       "      <th>8</th>\n",
       "      <td>3000</td>\n",
       "      <td>7037.531000</td>\n",
       "      <td>4112.618667</td>\n",
       "      <td>707.860087</td>\n",
       "      <td>399.200389</td>\n",
       "    </tr>\n",
       "    <tr>\n",
       "      <th>9</th>\n",
       "      <td>3600</td>\n",
       "      <td>10609.417667</td>\n",
       "      <td>2273.066333</td>\n",
       "      <td>978.008961</td>\n",
       "      <td>853.837192</td>\n",
       "    </tr>\n",
       "  </tbody>\n",
       "</table>\n",
       "</div>"
      ],
      "text/plain": [
       "   Time           Red           Ox   stderr_red    stderr_ox\n",
       "0     0  10215.554667  1582.103000  1366.879250   421.741261\n",
       "1    10   7738.669000  3612.766667   796.931765   398.838889\n",
       "2   120   7859.204333  8582.693000   775.733963  1822.944691\n",
       "3   300   8062.743000  6168.373000  2215.149730   817.696748\n",
       "4   600   8295.204667  3748.514333   919.908328  1132.710602\n",
       "5  1200   8292.385667  5050.464000   871.019977  1290.718182\n",
       "6  1800   6309.369333  7379.511000   938.723883  2216.232029\n",
       "7  2400   7622.871333  9902.359333  1016.533690   682.200455\n",
       "8  3000   7037.531000  4112.618667   707.860087   399.200389\n",
       "9  3600  10609.417667  2273.066333   978.008961   853.837192"
      ]
     },
     "execution_count": 71,
     "metadata": {},
     "output_type": "execute_result"
    }
   ],
   "source": [
    "df_mean_data"
   ]
  },
  {
   "cell_type": "code",
   "execution_count": 72,
   "metadata": {},
   "outputs": [],
   "source": [
    "#Of course, you can plot this data too\n",
    "#Note that I will call the columns directly out of the df_mean_data dataframe."
   ]
  },
  {
   "cell_type": "code",
   "execution_count": 73,
   "metadata": {},
   "outputs": [
    {
     "data": {
      "text/plain": [
       "Text(0.5, 0, 'Time (sec)')"
      ]
     },
     "execution_count": 73,
     "metadata": {},
     "output_type": "execute_result"
    },
    {
     "data": {
      "image/png": "[encoded data removed]",
      "text/plain": [
       "<Figure size 432x288 with 1 Axes>"
      ]
     },
     "metadata": {
      "needs_background": "light"
     },
     "output_type": "display_data"
    }
   ],
   "source": [
    "t=df_mean_data['Time']\n",
    "fig = plt.figure()\n",
    "ax = fig.add_subplot(111)\n",
    "ax.errorbar(x=t,y=df_mean_data['Red'], yerr=df_mean_data['stderr_red'], fmt='ko-', capsize=4, label='Reduced')\n",
    "ax.errorbar(x=t,y=df_mean_data['Ox'], yerr=df_mean_data['stderr_ox'], fmt='ro-', capsize=4, label='Oxidized')\n",
    "plt.ylabel(r'Sample', size=14)\n",
    "plt.xlabel(r'Time (sec)', size=14)"
   ]
  },
  {
   "cell_type": "markdown",
   "metadata": {},
   "source": [
    "## 2.5 Exporting your data"
   ]
  },
  {
   "cell_type": "code",
   "execution_count": 74,
   "metadata": {},
   "outputs": [],
   "source": [
    "#Importing an excel spreadsheet everytime you want to check your data might be pain\n",
    "#You can write your data to a csv fileor txt file which are more light-weight and user friendly\n",
    "#Make sure to get the path correct; in this case the path is based on my computer\n",
    "df_mean_data.to_csv(r'C:\\Users\\chepillay\\Dropbox\\Python scripts\\sample1.csv', index=False)"
   ]
  },
  {
   "cell_type": "code",
   "execution_count": 75,
   "metadata": {},
   "outputs": [
    {
     "data": {
      "text/html": [
       "<div>\n",
       "<style scoped>\n",
       "    .dataframe tbody tr th:only-of-type {\n",
       "        vertical-align: middle;\n",
       "    }\n",
       "\n",
       "    .dataframe tbody tr th {\n",
       "        vertical-align: top;\n",
       "    }\n",
       "\n",
       "    .dataframe thead th {\n",
       "        text-align: right;\n",
       "    }\n",
       "</style>\n",
       "<table border=\"1\" class=\"dataframe\">\n",
       "  <thead>\n",
       "    <tr style=\"text-align: right;\">\n",
       "      <th></th>\n",
       "      <th>Time</th>\n",
       "      <th>Red</th>\n",
       "      <th>Ox</th>\n",
       "      <th>stderr_red</th>\n",
       "      <th>stderr_ox</th>\n",
       "    </tr>\n",
       "  </thead>\n",
       "  <tbody>\n",
       "    <tr>\n",
       "      <th>0</th>\n",
       "      <td>0</td>\n",
       "      <td>10215.554667</td>\n",
       "      <td>1582.103000</td>\n",
       "      <td>1366.879250</td>\n",
       "      <td>421.741261</td>\n",
       "    </tr>\n",
       "    <tr>\n",
       "      <th>1</th>\n",
       "      <td>10</td>\n",
       "      <td>7738.669000</td>\n",
       "      <td>3612.766667</td>\n",
       "      <td>796.931765</td>\n",
       "      <td>398.838889</td>\n",
       "    </tr>\n",
       "    <tr>\n",
       "      <th>2</th>\n",
       "      <td>120</td>\n",
       "      <td>7859.204333</td>\n",
       "      <td>8582.693000</td>\n",
       "      <td>775.733963</td>\n",
       "      <td>1822.944691</td>\n",
       "    </tr>\n",
       "    <tr>\n",
       "      <th>3</th>\n",
       "      <td>300</td>\n",
       "      <td>8062.743000</td>\n",
       "      <td>6168.373000</td>\n",
       "      <td>2215.149730</td>\n",
       "      <td>817.696748</td>\n",
       "    </tr>\n",
       "    <tr>\n",
       "      <th>4</th>\n",
       "      <td>600</td>\n",
       "      <td>8295.204667</td>\n",
       "      <td>3748.514333</td>\n",
       "      <td>919.908328</td>\n",
       "      <td>1132.710602</td>\n",
       "    </tr>\n",
       "    <tr>\n",
       "      <th>5</th>\n",
       "      <td>1200</td>\n",
       "      <td>8292.385667</td>\n",
       "      <td>5050.464000</td>\n",
       "      <td>871.019977</td>\n",
       "      <td>1290.718182</td>\n",
       "    </tr>\n",
       "    <tr>\n",
       "      <th>6</th>\n",
       "      <td>1800</td>\n",
       "      <td>6309.369333</td>\n",
       "      <td>7379.511000</td>\n",
       "      <td>938.723883</td>\n",
       "      <td>2216.232029</td>\n",
       "    </tr>\n",
       "    <tr>\n",
       "      <th>7</th>\n",
       "      <td>2400</td>\n",
       "      <td>7622.871333</td>\n",
       "      <td>9902.359333</td>\n",
       "      <td>1016.533690</td>\n",
       "      <td>682.200455</td>\n",
       "    </tr>\n",
       "    <tr>\n",
       "      <th>8</th>\n",
       "      <td>3000</td>\n",
       "      <td>7037.531000</td>\n",
       "      <td>4112.618667</td>\n",
       "      <td>707.860087</td>\n",
       "      <td>399.200389</td>\n",
       "    </tr>\n",
       "    <tr>\n",
       "      <th>9</th>\n",
       "      <td>3600</td>\n",
       "      <td>10609.417667</td>\n",
       "      <td>2273.066333</td>\n",
       "      <td>978.008961</td>\n",
       "      <td>853.837192</td>\n",
       "    </tr>\n",
       "  </tbody>\n",
       "</table>\n",
       "</div>"
      ],
      "text/plain": [
       "   Time           Red           Ox   stderr_red    stderr_ox\n",
       "0     0  10215.554667  1582.103000  1366.879250   421.741261\n",
       "1    10   7738.669000  3612.766667   796.931765   398.838889\n",
       "2   120   7859.204333  8582.693000   775.733963  1822.944691\n",
       "3   300   8062.743000  6168.373000  2215.149730   817.696748\n",
       "4   600   8295.204667  3748.514333   919.908328  1132.710602\n",
       "5  1200   8292.385667  5050.464000   871.019977  1290.718182\n",
       "6  1800   6309.369333  7379.511000   938.723883  2216.232029\n",
       "7  2400   7622.871333  9902.359333  1016.533690   682.200455\n",
       "8  3000   7037.531000  4112.618667   707.860087   399.200389\n",
       "9  3600  10609.417667  2273.066333   978.008961   853.837192"
      ]
     },
     "execution_count": 75,
     "metadata": {},
     "output_type": "execute_result"
    }
   ],
   "source": [
    "#Lets call our csv file\n",
    "df = pd.read_csv('sample1.csv')\n",
    "df"
   ]
  },
  {
   "cell_type": "code",
   "execution_count": 76,
   "metadata": {},
   "outputs": [
    {
     "data": {
      "text/plain": [
       "Text(0.5, 0, 'Time (sec)')"
      ]
     },
     "execution_count": 76,
     "metadata": {},
     "output_type": "execute_result"
    },
    {
     "data": {
      "image/png": "[encoded data removed]",
      "text/plain": [
       "<Figure size 432x288 with 1 Axes>"
      ]
     },
     "metadata": {
      "needs_background": "light"
     },
     "output_type": "display_data"
    }
   ],
   "source": [
    "#Lets plot the data from our csv file\n",
    "t=df['Time']\n",
    "fig = plt.figure()\n",
    "ax = fig.add_subplot(111)\n",
    "ax.errorbar(x=t,y=df['Red'], yerr=df['stderr_red'], fmt='ko-', capsize=4, label='Reduced')\n",
    "ax.errorbar(x=t,y=df['Ox'], yerr=df['stderr_ox'], fmt='ro-', capsize=4, label='Oxidized')\n",
    "plt.ylabel(r'Sample', size=14)\n",
    "plt.xlabel(r'Time (sec)', size=14)"
   ]
  },
  {
   "cell_type": "code",
   "execution_count": null,
   "metadata": {},
   "outputs": [],
   "source": []
  }
 ],
 "metadata": {
  "kernelspec": {
   "display_name": "Python 3",
   "language": "python",
   "name": "python3"
  },
  "language_info": {
   "codemirror_mode": {
    "name": "ipython",
    "version": 3
   },
   "file_extension": ".py",
   "mimetype": "text/x-python",
   "name": "python",
   "nbconvert_exporter": "python",
   "pygments_lexer": "ipython3",
   "version": "3.7.3"
  }
 },
 "nbformat": 4,
 "nbformat_minor": 2
}
